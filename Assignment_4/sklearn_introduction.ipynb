{
  "nbformat": 4,
  "nbformat_minor": 0,
  "metadata": {
    "kernelspec": {
      "display_name": "Python 3",
      "language": "python",
      "name": "python3"
    },
    "language_info": {
      "codemirror_mode": {
        "name": "ipython",
        "version": 3
      },
      "file_extension": ".py",
      "mimetype": "text/x-python",
      "name": "python",
      "nbconvert_exporter": "python",
      "pygments_lexer": "ipython3",
      "version": "3.7.6"
    },
    "colab": {
      "name": "sklearn_introduction.ipynb",
      "provenance": [],
      "collapsed_sections": [],
      "include_colab_link": true
    }
  },
  "cells": [
    {
      "cell_type": "markdown",
      "metadata": {
        "id": "view-in-github",
        "colab_type": "text"
      },
      "source": [
        "<a href=\"https://colab.research.google.com/github/nikitavlaev/python_basic_programming/blob/class04/Assignment_4/sklearn_introduction.ipynb\" target=\"_parent\"><img src=\"https://colab.research.google.com/assets/colab-badge.svg\" alt=\"Open In Colab\"/></a>"
      ]
    },
    {
      "cell_type": "markdown",
      "metadata": {
        "id": "e-iFbOK4L7pA",
        "colab_type": "text"
      },
      "source": [
        "<center>\n",
        "  <img src=\"https://github.com/SergeyKuz1001/python_basic_programming/blob/task04/assignment_4/images/meme.png?raw=1\">\n",
        "</center>\n",
        "\n",
        "# Машинное обучение  \n",
        "> Компьютерная программа обучается на основе опыта $E$ по отношению к некоторому классу задач $T$ и меры качества $P$, если качество решения задач из $T$, измеренное на основе $P$, улучшается с приобретением опыта $E$. (Т. М. Митчелл)\n",
        "\n",
        "### Формулировка задачи:  \n",
        "$X$ $-$ множество объектов  \n",
        "$Y$ $-$ множество меток классов  \n",
        "$f: X \\rightarrow Y$ $-$ неизвестная зависимость  \n",
        "**Дано**:  \n",
        "$x_1, \\dots, x_n \\subset X$ $-$ обучающая выборка  \n",
        "$y_i = f(x_i), i=1, \\dots n$ $-$ известные метки классов  \n",
        "**Найти**:  \n",
        "$a∶ X \\rightarrow Y$ $-$ алгоритм, решающую функцию, приближающую $f$ на всём множестве $X$."
      ]
    },
    {
      "cell_type": "code",
      "metadata": {
        "id": "_MQm_AGwL7pI",
        "colab_type": "code",
        "outputId": "98736df9-0b1d-48df-e7dd-175777266f23",
        "colab": {
          "base_uri": "https://localhost:8080/",
          "height": 34
        }
      },
      "source": [
        "!conda install -c intel scikit-learn -y"
      ],
      "execution_count": 0,
      "outputs": [
        {
          "output_type": "stream",
          "text": [
            "/bin/bash: conda: command not found\n"
          ],
          "name": "stdout"
        }
      ]
    },
    {
      "cell_type": "code",
      "metadata": {
        "id": "-8tR9Gk4L7u9",
        "colab_type": "code",
        "colab": {}
      },
      "source": [
        "import numpy\n",
        "import matplotlib.pyplot as plt \n",
        "from sklearn.datasets import load_iris\n",
        "\n",
        "import warnings\n",
        "warnings.simplefilter('ignore')\n",
        "\n",
        "numpy.random.seed(7)\n",
        "\n",
        "%matplotlib inline"
      ],
      "execution_count": 0,
      "outputs": []
    },
    {
      "cell_type": "code",
      "metadata": {
        "id": "q3wTQCHjL7vG",
        "colab_type": "code",
        "outputId": "6256ceae-8198-4862-bfb0-15c3f350998a",
        "colab": {
          "base_uri": "https://localhost:8080/",
          "height": 204
        }
      },
      "source": [
        "iris = load_iris()\n",
        "X = iris.data\n",
        "Y = iris.target\n",
        "print(X.shape)\n",
        "\n",
        "random_sample = numpy.random.choice(X.shape[0], 10)\n",
        "for i in random_sample:\n",
        "    print(f\"{X[i]}: {iris.target_names[Y[i]]}\")"
      ],
      "execution_count": 25,
      "outputs": [
        {
          "output_type": "stream",
          "text": [
            "(150, 4)\n",
            "[6.7 3.  5.  1.7]: versicolor\n",
            "[4.4 3.  1.3 0.2]: setosa\n",
            "[6.3 2.9 5.6 1.8]: virginica\n",
            "[6.8 3.  5.5 2.1]: virginica\n",
            "[5.1 3.5 1.4 0.2]: setosa\n",
            "[5.8 2.7 3.9 1.2]: versicolor\n",
            "[4.6 3.4 1.4 0.3]: setosa\n",
            "[6.7 3.  5.2 2.3]: virginica\n",
            "[4.7 3.2 1.3 0.2]: setosa\n",
            "[5.8 4.  1.2 0.2]: setosa\n"
          ],
          "name": "stdout"
        }
      ]
    },
    {
      "cell_type": "markdown",
      "metadata": {
        "id": "kYSMJZCvL7vQ",
        "colab_type": "text"
      },
      "source": [
        "## Типы задач\n",
        "\n",
        "### Задача классификации\n",
        "\n",
        "$Y = \\{ -1, +1 \\}$ $-$ классификация на 2 класса;  \n",
        "$Y = \\{1, \\dots , K \\}$ $-$ на $K$ непересекающихся классов;  \n",
        "$Y = \\{0, 1 \\}^K$ $-$ на $K$ классов, которые могут пересекаться.\n",
        "\n",
        "Примеры: распознавание текста по рукописному вводу, определение предмета на фотографии.\n",
        "\n",
        "### Задача регрессии\n",
        "\n",
        "$Y = \\mathbb{R}$ или $Y = \\mathbb{R}^k$.\n",
        "\n",
        "Примеры: предсказание стоимости акции через полгода, предсказание прибыли магазина в следующем месяце.\n",
        "\n",
        "### Задача ранжирования\n",
        "\n",
        "$Y$ $-$ конечное упорядоченное множество.\n",
        "\n",
        "Пример: выдача поискового запроса.\n",
        "\n",
        "### Задачи уменьшения размерности\n",
        "\n",
        "Научиться описывать данные не $M$ признаками, а меньшим числом для повышения точности модели или последующей визуализации. В качестве примера помимо необходимости для визуализации можно привести сжатие данных.\n",
        "\n",
        "### Задачи кластеризации\n",
        "\n",
        "Разбиение данных множества объектов на подмножества (кластеры) таким образом, чтобы объекты из одного кластера были более похожи друг на друга, чем на объекты из других кластеров по какому-либо критерию. \n",
        "\n",
        "<center>\n",
        "    <img src=\"https://github.com/SergeyKuz1001/python_basic_programming/blob/task04/assignment_4/images/ml_map.png?raw=1\">\n",
        "</center>"
      ]
    },
    {
      "cell_type": "code",
      "metadata": {
        "id": "f4oc7SnEL7vS",
        "colab_type": "code",
        "outputId": "655b8d9a-a782-409a-8ff1-23e9b4b17c65",
        "colab": {
          "base_uri": "https://localhost:8080/",
          "height": 204
        }
      },
      "source": [
        "from sklearn.svm import SVC\n",
        "\n",
        "model = SVC(random_state=7)\n",
        "model.fit(X, Y)\n",
        "y_pred = model.predict(X)\n",
        "\n",
        "for i in random_sample:\n",
        "    print(f\"predicted: {iris.target_names[y_pred[i]]}, actual: {iris.target_names[Y[i]]}\")\n",
        "    \n",
        "f\"differences in {(Y != y_pred).sum()} samples\""
      ],
      "execution_count": 0,
      "outputs": [
        {
          "output_type": "stream",
          "text": [
            "predicted: setosa, actual: setosa\n",
            "predicted: versicolor, actual: versicolor\n",
            "predicted: virginica, actual: virginica\n",
            "predicted: versicolor, actual: versicolor\n",
            "predicted: virginica, actual: virginica\n",
            "predicted: setosa, actual: setosa\n",
            "predicted: versicolor, actual: versicolor\n",
            "predicted: versicolor, actual: versicolor\n",
            "predicted: virginica, actual: virginica\n",
            "predicted: setosa, actual: setosa\n"
          ],
          "name": "stdout"
        },
        {
          "output_type": "execute_result",
          "data": {
            "text/plain": [
              "'differences in 4 samples'"
            ]
          },
          "metadata": {
            "tags": []
          },
          "execution_count": 5
        }
      ]
    },
    {
      "cell_type": "markdown",
      "metadata": {
        "id": "UWEtTNnZL7va",
        "colab_type": "text"
      },
      "source": [
        "# Оценка качества\n",
        "\n",
        "## Метрика\n",
        "\n",
        "### Задача классификации\n",
        "\n",
        "Определим матрицу ошибок. Допустим, что у нас есть два класса и алгоритм, предсказывающий принадлежность каждого объекта одному из классов, тогда матрица ошибок классификации будет выглядеть следующим образом:\n",
        "\n",
        "| $ $         | $y=1$               | $y=0$               |  \n",
        "|-------------|---------------------|---------------------|  \n",
        "| $\\hat{y}=1$ | True Positive (TP)  | False Positive (FP) |  \n",
        "| $\\hat{y}=0$ | False Negative (FN) | True Negative (TN)  |  \n",
        "\n",
        "Здесь $\\hat{y}$ $-$ это ответ алгоритма на объекте, а $y$ $-$ истинная метка класса на этом объекте.  \n",
        "Таким образом, ошибки классификации бывают двух видов: *False Negative (FN)* и *False Positive (FP)*.\n",
        "\n",
        "- $\\textit{accuracy} = \\frac{TP + TN}{TP + FP + FN + TN}$\n",
        "- $\\textit{recall} = \\frac{TP}{TP + FN}$\n",
        "- $\\textit{precision} = \\frac{TP}{TP + FP}$\n",
        "- $\\textit{f1-score} = \\frac{2 \\cdot \\textit{recall} \\cdot \\textit{precision}}{\\textit{precision} + \\textit{recall}}$\n",
        "\n",
        "### Задача регрессии\n",
        "\n",
        "- $MSE = \\frac{1}{n} \\sum_{i=1}^n (y_i - \\hat{y}_i)^2$\n",
        "- $RMSE = \\sqrt{MSE}$\n",
        "- $MAE = \\frac{1}{n} \\sum_{i=1}^n |y_i - \\hat{y}_i|$\n",
        "\n",
        "## Отложенная выборка\n",
        "\n",
        "$X \\rightarrow X_{train}, X_{val}, X_{test}$\n",
        "\n",
        "- $X_{train}$ $-$ используется для обучения модели\n",
        "- $X_{val}$ $-$ подбор гиперпараметров ($ \\approx{30\\%}$ от тренировочной части)\n",
        "- $X_{test}$ $-$ оценка качества конечной модели"
      ]
    },
    {
      "cell_type": "code",
      "metadata": {
        "id": "aCy9ezYyL7vd",
        "colab_type": "code",
        "outputId": "c07bb98d-18a3-449b-b02c-f121927c48e4",
        "colab": {
          "base_uri": "https://localhost:8080/",
          "height": 68
        }
      },
      "source": [
        "from sklearn.model_selection import train_test_split\n",
        "from sklearn.metrics import accuracy_score, f1_score\n",
        "\n",
        "# 1/3 всего датасета возьмём для тестовой выборки\n",
        "# затем 30% от тренировочной будет валидационной\n",
        "test_index = numpy.random.choice(X.shape[0], X.shape[0] // 3)\n",
        "train_index = [i for i in range(X.shape[0]) if i not in test_index]\n",
        "\n",
        "X_test = X[test_index]\n",
        "Y_test = Y[test_index]\n",
        "\n",
        "X_train, X_val, Y_train, Y_val = train_test_split(X[train_index], Y[train_index], test_size=0.3, shuffle=True, random_state=7)\n",
        "\n",
        "print(f\"train size: {X_train.shape[0]}\")\n",
        "print(f\"val size: {X_val.shape[0]}\")\n",
        "print(f\"test size: {X_test.shape[0]}\")"
      ],
      "execution_count": 26,
      "outputs": [
        {
          "output_type": "stream",
          "text": [
            "train size: 74\n",
            "val size: 32\n",
            "test size: 50\n"
          ],
          "name": "stdout"
        }
      ]
    },
    {
      "cell_type": "code",
      "metadata": {
        "id": "3EbLWuP3L7vl",
        "colab_type": "code",
        "outputId": "746e2fde-1659-404d-9509-690fbebade31",
        "colab": {
          "base_uri": "https://localhost:8080/",
          "height": 34
        }
      },
      "source": [
        "best_score = -1\n",
        "best_c = None\n",
        "\n",
        "for c in [0.01, 0.1, 1, 10]:\n",
        "    model = SVC(C=c, random_state=7)\n",
        "    model.fit(X_train, Y_train)\n",
        "    y_pred = model.predict(X_val)\n",
        "    cur_score = f1_score(Y_val, y_pred, average='micro')\n",
        "    if cur_score > best_score:\n",
        "        best_score = cur_score\n",
        "        best_c = c\n",
        "\n",
        "f\"best score is {best_score} for C {best_c}\""
      ],
      "execution_count": 0,
      "outputs": [
        {
          "output_type": "execute_result",
          "data": {
            "text/plain": [
              "'best score is 0.9696969696969697 for C 1'"
            ]
          },
          "metadata": {
            "tags": []
          },
          "execution_count": 7
        }
      ]
    },
    {
      "cell_type": "code",
      "metadata": {
        "id": "PxJQY95rL7vw",
        "colab_type": "code",
        "outputId": "c53b89e8-8664-4301-8a76-ac1af69b9469",
        "colab": {
          "base_uri": "https://localhost:8080/",
          "height": 34
        }
      },
      "source": [
        "full_model = SVC(C=1.0, random_state=7)\n",
        "full_model.fit(X[train_index], Y[train_index])\n",
        "y_pred = full_model.predict(X_test)\n",
        "f\"test score is {f1_score(Y_test, y_pred, average='micro')}\""
      ],
      "execution_count": 0,
      "outputs": [
        {
          "output_type": "execute_result",
          "data": {
            "text/plain": [
              "'test score is 0.94'"
            ]
          },
          "metadata": {
            "tags": []
          },
          "execution_count": 8
        }
      ]
    },
    {
      "cell_type": "markdown",
      "metadata": {
        "id": "aaCzW2lCL7v2",
        "colab_type": "text"
      },
      "source": [
        "# Алгоритмы классификации\n",
        "\n",
        "## Линейный классификатор\n",
        "\n",
        "Построение разделяющей гиперплоскости\n",
        "\n",
        "$$\n",
        "y = \\textit{sign}(Wx + b)\n",
        "$$\n",
        "\n",
        "<center>\n",
        "    <img src=\"https://github.com/SergeyKuz1001/python_basic_programming/blob/task04/assignment_4/images/linear_classifier.png?raw=1\">\n",
        "</center>\n",
        "\n",
        "### Стандартизация величин\n",
        "\n",
        "При использование линейных моделей, иногда полезно стандартизировать их значения, например, оценки пользователей.\n",
        "\n",
        "$$\n",
        "X_{stand} = \\frac{X - X_{mean}}{X_{std}}\n",
        "$$\n",
        "\n",
        "Для этого в `sklearn` есть класс $-$ `StandartScaler`\n",
        "\n",
        "\n",
        "### Логистическая регрессия\n",
        "\n",
        "Использование функции логита для получения вероятности\n",
        "\n",
        "<center>\n",
        "    <img src=\"https://github.com/SergeyKuz1001/python_basic_programming/blob/task04/assignment_4/images/logit.png?raw=1\">\n",
        "</center>\n",
        "\n",
        "## Метод опорных векторов (Support vector machine)\n",
        "\n",
        "Построение \"полоски\" максимальной ширины, которая разделяет выборку\n",
        "\n",
        "<center>\n",
        "    <img src=\"https://github.com/SergeyKuz1001/python_basic_programming/blob/task04/assignment_4/images/svm.png?raw=1\">\n",
        "</center>\n",
        "\n",
        "\n",
        "## Дерево решений (Decision tree)\n",
        "\n",
        "В каждой вершине определяется критерий, по которому разбивается подвыборка.\n",
        "\n",
        "<center>\n",
        "    <img src=\"https://github.com/SergeyKuz1001/python_basic_programming/blob/task04/assignment_4/images/decision_tree.png?raw=1\">\n",
        "</center>\n",
        "\n",
        "## Случайный лес (Random forest)\n",
        "\n",
        "Множество деревьев решений, каждое из которых обучается на случайной подвыборке.\n",
        "\n",
        "<center>\n",
        "    <img src=\"https://github.com/SergeyKuz1001/python_basic_programming/blob/task04/assignment_4/images/random_forest.png?raw=1\">\n",
        "</center>\n",
        "\n",
        "## Метод ближайших соседей (K-neighbors)\n",
        "\n",
        "Решение базируется на основе $k$ ближайших известных примеров.\n",
        "\n",
        "<center>\n",
        "    <img src=\"https://github.com/SergeyKuz1001/python_basic_programming/blob/task04/assignment_4/images/knn.png?raw=1\">\n",
        "</center>"
      ]
    },
    {
      "cell_type": "code",
      "metadata": {
        "id": "7M7rWsCmL7v5",
        "colab_type": "code",
        "colab": {}
      },
      "source": [
        "from sklearn.datasets import make_classification\n",
        "\n",
        "X, y = make_classification(n_samples=1000, n_features=50, n_informative=20)\n",
        "X_train, X_test, y_train, y_test = train_test_split(X, y, test_size=0.3, shuffle=True, random_state=7)"
      ],
      "execution_count": 0,
      "outputs": []
    },
    {
      "cell_type": "code",
      "metadata": {
        "id": "1pJMiQYXL7wB",
        "colab_type": "code",
        "outputId": "5a6268ae-bd28-47ae-eee8-344826c9b23f",
        "colab": {
          "base_uri": "https://localhost:8080/",
          "height": 102
        }
      },
      "source": [
        "from sklearn.tree import DecisionTreeClassifier\n",
        "from sklearn.ensemble import RandomForestClassifier\n",
        "from sklearn.neighbors import KNeighborsClassifier\n",
        "from sklearn.linear_model import LogisticRegression\n",
        "\n",
        "models = [\n",
        "    LogisticRegression(random_state=7, n_jobs=6),\n",
        "    SVC(random_state=7),\n",
        "    DecisionTreeClassifier(random_state=7),\n",
        "    RandomForestClassifier(random_state=7),\n",
        "    KNeighborsClassifier(n_jobs=6)\n",
        "]\n",
        "\n",
        "for model in models:\n",
        "    model.fit(X_train, y_train)\n",
        "    y_pred = model.predict(X_test)\n",
        "    print(f\"model {model.__class__.__name__} scores {round(f1_score(y_test, y_pred, average='micro'), 2)}\")"
      ],
      "execution_count": 0,
      "outputs": [
        {
          "output_type": "stream",
          "text": [
            "model LogisticRegression scores 0.81\n",
            "model SVC scores 0.92\n",
            "model DecisionTreeClassifier scores 0.7\n",
            "model RandomForestClassifier scores 0.85\n",
            "model KNeighborsClassifier scores 0.91\n"
          ],
          "name": "stdout"
        }
      ]
    },
    {
      "cell_type": "code",
      "metadata": {
        "id": "YtgbZ70xL7wK",
        "colab_type": "code",
        "outputId": "8873dd12-b26e-4465-d24c-2031dbe937a9",
        "colab": {
          "base_uri": "https://localhost:8080/",
          "height": 34
        }
      },
      "source": [
        "from sklearn.preprocessing import StandardScaler\n",
        "\n",
        "standart_scaler = StandardScaler()\n",
        "standart_scaler.fit(X_train)\n",
        "X_train_scaled = standart_scaler.transform(X_train)\n",
        "X_test_scaled = standart_scaler.transform(X_test)\n",
        "\n",
        "model = SVC(random_state=7)\n",
        "model.fit(X_train_scaled, y_train)\n",
        "y_pred = model.predict(X_test_scaled)\n",
        "f\"test score is {f1_score(y_test, y_pred, average='micro')}\""
      ],
      "execution_count": 0,
      "outputs": [
        {
          "output_type": "execute_result",
          "data": {
            "text/plain": [
              "'test score is 0.8633333333333333'"
            ]
          },
          "metadata": {
            "tags": []
          },
          "execution_count": 11
        }
      ]
    },
    {
      "cell_type": "markdown",
      "metadata": {
        "id": "xy67KBg_L7wS",
        "colab_type": "text"
      },
      "source": [
        "# Inclass task #1\n",
        "\n",
        "Реализуйте модель, которая классифицирует цифры по рисунку.\n",
        "\n",
        "Ваша задача получить f1-score $0.98$ на тестовом датасете.\n",
        "\n",
        "Можете пользоваться как алгоритмами выше, так и любыми другими реализованными в `sklearn`."
      ]
    },
    {
      "cell_type": "code",
      "metadata": {
        "id": "VzBoX5BaL7wY",
        "colab_type": "code",
        "outputId": "f6933e90-d8b7-445e-feec-0e2cc364de01",
        "colab": {
          "base_uri": "https://localhost:8080/",
          "height": 34
        }
      },
      "source": [
        "from sklearn.datasets import fetch_openml\n",
        "\n",
        "# Load data from https://www.openml.org/d/554\n",
        "X, Y = fetch_openml('mnist_784', return_X_y=True)\n",
        "print(f\"shape of X is {X.shape}\")"
      ],
      "execution_count": 0,
      "outputs": [
        {
          "output_type": "stream",
          "text": [
            "shape of X is (70000, 784)\n"
          ],
          "name": "stdout"
        }
      ]
    },
    {
      "cell_type": "code",
      "metadata": {
        "id": "cBoDxyaCL7wd",
        "colab_type": "code",
        "outputId": "a21b6246-76bc-4fcb-e00f-62f3cd6d667b",
        "colab": {
          "base_uri": "https://localhost:8080/",
          "height": 342
        }
      },
      "source": [
        "plt.gray()\n",
        "fig, axes = plt.subplots(2, 5, figsize=(15, 5))\n",
        "\n",
        "for i, num in enumerate(numpy.random.choice(X.shape[0], 10)):\n",
        "    axes[i // 5, i % 5].matshow(X[num].reshape(28, 28))\n",
        "    axes[i // 5, i % 5].set_title(Y[num])\n",
        "    axes[i // 5, i % 5].axis('off')\n",
        "\n",
        "plt.show()"
      ],
      "execution_count": 0,
      "outputs": [
        {
          "output_type": "display_data",
          "data": {
            "text/plain": [
              "<Figure size 432x288 with 0 Axes>"
            ]
          },
          "metadata": {
            "tags": []
          }
        },
        {
          "output_type": "display_data",
          "data": {
            "image/png": "[encoded data removed]",
            "text/plain": [
              "<Figure size 1080x360 with 10 Axes>"
            ]
          },
          "metadata": {
            "tags": []
          }
        }
      ]
    },
    {
      "cell_type": "code",
      "metadata": {
        "id": "nzDNO4WZL7wi",
        "colab_type": "code",
        "outputId": "f11abd0c-fa33-4d71-cf13-614bb7ec709c",
        "colab": {
          "base_uri": "https://localhost:8080/",
          "height": 51
        }
      },
      "source": [
        "test_shuffle = numpy.random.permutation(X.shape[0])\n",
        "\n",
        "X_test, X_train = X[test_shuffle[:10000]], X[test_shuffle[10000:]]\n",
        "Y_test, Y_train = Y[test_shuffle[:10000]], Y[test_shuffle[10000:]]\n",
        "\n",
        "print(f\"train size: {X_train.shape[0]}\")\n",
        "print(f\"test size: {X_test.shape[0]}\")"
      ],
      "execution_count": 0,
      "outputs": [
        {
          "output_type": "stream",
          "text": [
            "train size: 60000\n",
            "test size: 10000\n"
          ],
          "name": "stdout"
        }
      ]
    },
    {
      "cell_type": "code",
      "metadata": {
        "id": "sqTHK46gL7wo",
        "colab_type": "code",
        "colab": {}
      },
      "source": [
        "model = SVC(random_state=7)\n",
        "model.fit(X_train, Y_train)\n",
        "y_res = model.predict(X_test)"
      ],
      "execution_count": 0,
      "outputs": []
    },
    {
      "cell_type": "code",
      "metadata": {
        "id": "y_OukF7gL7ww",
        "colab_type": "code",
        "outputId": "d15ec68c-56cc-4452-d43e-bb0c00ca2104",
        "colab": {
          "base_uri": "https://localhost:8080/",
          "height": 34
        }
      },
      "source": [
        "print(f\"test score is {f1_score(Y_test, y_res, average='micro')}\")"
      ],
      "execution_count": 0,
      "outputs": [
        {
          "output_type": "stream",
          "text": [
            "test score is 0.9810000000000001\n"
          ],
          "name": "stdout"
        }
      ]
    },
    {
      "cell_type": "markdown",
      "metadata": {
        "id": "-UIhNMa5L7w3",
        "colab_type": "text"
      },
      "source": [
        "# Алгоритмы регрессии\n",
        "\n",
        "Деревья решений, случайный лес и метод ближайших соседей легко обобщаются на случай регрессии. Ответ, как правило, это среднее из полученных значений (например, среднее значение ближайших примеров). \n",
        "\n",
        "## Линейная регрессия\n",
        "\n",
        "$y$ линейно зависим от $x$, т.е. имеет место уравнение\n",
        "$$\n",
        "y = Wx + b = W <x; 1>\n",
        "$$\n",
        "\n",
        "Такой подход имеет аналитическое решение, однако он требует вычисление обратной матрицы $X$, что не всегда возможно.  \n",
        "Другой подход $-$ минимизация функции ошибки, например $MSE$, с помощью техники градиентного спуска.\n",
        "\n",
        "## Регуляризация\n",
        "\n",
        "Чтобы избегать переобучения (когда модель хорошо работает только на тренировочных данных) используют различные техники *регуляризации*.  \n",
        "Один из признаков переобучения $-$ модель имеет большие веса, это можно контролировать путём добавления $L1$ или $L2$ нормы весов к функции ошибки.  \n",
        "То есть, итоговая ошибка, которая будет распространятся на веса модели, считается по формуле:\n",
        "$$\n",
        "Error(W) = MSE(W, X, y) + \\lambda ||W||\n",
        "$$\n",
        "\n",
        "Такие модели, так же реализованы в `sklearn`:\n",
        "- Lasso\n",
        "- Ridge"
      ]
    },
    {
      "cell_type": "code",
      "metadata": {
        "id": "rsArgiL7L7w6",
        "colab_type": "code",
        "outputId": "37c498a1-2d7f-4450-8f60-4d9c3d06ec14",
        "colab": {
          "base_uri": "https://localhost:8080/",
          "height": 34
        }
      },
      "source": [
        "from sklearn.datasets import load_boston\n",
        "!conda update -n base -c defaults conda -y\n",
        "X, y = load_boston(return_X_y=True)\n",
        "X_train, X_test, y_train, y_test = train_test_split(X, y, test_size=0.3, shuffle=True, random_state=7)"
      ],
      "execution_count": 0,
      "outputs": [
        {
          "output_type": "stream",
          "text": [
            "/bin/bash: conda: command not found\n"
          ],
          "name": "stdout"
        }
      ]
    },
    {
      "cell_type": "code",
      "metadata": {
        "id": "NML8OEsVL7xC",
        "colab_type": "code",
        "outputId": "3c3158d0-39c0-4a12-dd3b-93f0728ab4d0",
        "colab": {
          "base_uri": "https://localhost:8080/",
          "height": 119
        }
      },
      "source": [
        "from sklearn.linear_model import Lasso, Ridge, LinearRegression\n",
        "from sklearn.ensemble import RandomForestRegressor\n",
        "from sklearn.neighbors import KNeighborsRegressor\n",
        "from sklearn.svm import SVR\n",
        "from sklearn.metrics import mean_squared_error\n",
        "\n",
        "models = [\n",
        "    Lasso(random_state=7),\n",
        "    Ridge(random_state=7),\n",
        "    LinearRegression(n_jobs=6),\n",
        "    RandomForestRegressor(random_state=7, n_jobs=6),\n",
        "    KNeighborsRegressor(n_jobs=6),\n",
        "    SVR()\n",
        "]\n",
        "\n",
        "for model in models:\n",
        "    model.fit(X_train, y_train)\n",
        "    y_pred = model.predict(X_test)\n",
        "    print(f\"model {model.__class__.__name__} scores {round(mean_squared_error(y_test, y_pred), 2)}\")"
      ],
      "execution_count": 29,
      "outputs": [
        {
          "output_type": "stream",
          "text": [
            "model Lasso scores 36211959.88\n",
            "model Ridge scores 36241822.92\n",
            "model LinearRegression scores 36211258.4\n",
            "model RandomForestRegressor scores 25148238.27\n",
            "model KNeighborsRegressor scores 134595556.78\n",
            "model SVR scores 160304579.72\n"
          ],
          "name": "stdout"
        }
      ]
    },
    {
      "cell_type": "markdown",
      "metadata": {
        "id": "VaG9I08BL7xH",
        "colab_type": "text"
      },
      "source": [
        "# Inclass task #2\n",
        "\n",
        "Реализуйте модель, которая предсказывает стоимость медицинской страховки. В данных есть текстовые бинарные признаки (`sex` и `smoker`), не забудьте конвертировать их в `0` и `1`. Признак `region` имеет $4$ разных значения, вы можете конвертировать их в числа $0-4$ или создать $4$ бинарных признака. Для этого вам может помочь `sklearn.preprocessing.LabelEncoder` и `pandas.get_dummies`.\n",
        "\n",
        "Ваша задача получить RMSE-score меньше $5000$ на тестовом датасете.\n",
        "\n",
        "Можете пользоваться как алгоритмами выше, так и любыми другими реализованными в `sklearn`."
      ]
    },
    {
      "cell_type": "code",
      "metadata": {
        "id": "s5lEoM1-L7xJ",
        "colab_type": "code",
        "colab": {}
      },
      "source": [
        "def rmse(y_true, y_pred):\n",
        "    return numpy.sqrt(mean_squared_error(y_true, y_pred))"
      ],
      "execution_count": 0,
      "outputs": []
    },
    {
      "cell_type": "code",
      "metadata": {
        "id": "M-3Zi6GhL7xP",
        "colab_type": "code",
        "outputId": "212dcb99-eec4-4af8-a7a6-3fa17d8b69b2",
        "colab": {
          "resources": {
            "http://localhost:8080/nbextensions/google.colab/files.js": {
              "data": "Ly8gQ29weXJpZ2h0IDIwMTcgR29vZ2xlIExMQwovLwovLyBMaWNlbnNlZCB1bmRlciB0aGUgQXBhY2hlIExpY2Vuc2UsIFZlcnNpb24gMi4wICh0aGUgIkxpY2Vuc2UiKTsKLy8geW91IG1heSBub3QgdXNlIHRoaXMgZmlsZSBleGNlcHQgaW4gY29tcGxpYW5jZSB3aXRoIHRoZSBMaWNlbnNlLgovLyBZb3UgbWF5IG9idGFpbiBhIGNvcHkgb2YgdGhlIExpY2Vuc2UgYXQKLy8KLy8gICAgICBodHRwOi8vd3d3LmFwYWNoZS5vcmcvbGljZW5zZXMvTElDRU5TRS0yLjAKLy8KLy8gVW5sZXNzIHJlcXVpcmVkIGJ5IGFwcGxpY2FibGUgbGF3IG9yIGFncmVlZCB0byBpbiB3cml0aW5nLCBzb2Z0d2FyZQovLyBkaXN0cmlidXRlZCB1bmRlciB0aGUgTGljZW5zZSBpcyBkaXN0cmlidXRlZCBvbiBhbiAiQVMgSVMiIEJBU0lTLAovLyBXSVRIT1VUIFdBUlJBTlRJRVMgT1IgQ09ORElUSU9OUyBPRiBBTlkgS0lORCwgZWl0aGVyIGV4cHJlc3Mgb3IgaW1wbGllZC4KLy8gU2VlIHRoZSBMaWNlbnNlIGZvciB0aGUgc3BlY2lmaWMgbGFuZ3VhZ2UgZ292ZXJuaW5nIHBlcm1pc3Npb25zIGFuZAovLyBsaW1pdGF0aW9ucyB1bmRlciB0aGUgTGljZW5zZS4KCi8qKgogKiBAZmlsZW92ZXJ2aWV3IEhlbHBlcnMgZm9yIGdvb2dsZS5jb2xhYiBQeXRob24gbW9kdWxlLgogKi8KKGZ1bmN0aW9uKHNjb3BlKSB7CmZ1bmN0aW9uIHNwYW4odGV4dCwgc3R5bGVBdHRyaWJ1dGVzID0ge30pIHsKICBjb25zdCBlbGVtZW50ID0gZG9jdW1lbnQuY3JlYXRlRWxlbWVudCgnc3BhbicpOwogIGVsZW1lbnQudGV4dENvbnRlbnQgPSB0ZXh0OwogIGZvciAoY29uc3Qga2V5IG9mIE9iamVjdC5rZXlzKHN0eWxlQXR0cmlidXRlcykpIHsKICAgIGVsZW1lbnQuc3R5bGVba2V5XSA9IHN0eWxlQXR0cmlidXRlc1trZXldOwogIH0KICByZXR1cm4gZWxlbWVudDsKfQoKLy8gTWF4IG51bWJlciBvZiBieXRlcyB3aGljaCB3aWxsIGJlIHVwbG9hZGVkIGF0IGEgdGltZS4KY29uc3QgTUFYX1BBWUxPQURfU0laRSA9IDEwMCAqIDEwMjQ7Ci8vIE1heCBhbW91bnQgb2YgdGltZSB0byBibG9jayB3YWl0aW5nIGZvciB0aGUgdXNlci4KY29uc3QgRklMRV9DSEFOR0VfVElNRU9VVF9NUyA9IDMwICogMTAwMDsKCmZ1bmN0aW9uIF91cGxvYWRGaWxlcyhpbnB1dElkLCBvdXRwdXRJZCkgewogIGNvbnN0IHN0ZXBzID0gdXBsb2FkRmlsZXNTdGVwKGlucHV0SWQsIG91dHB1dElkKTsKICBjb25zdCBvdXRwdXRFbGVtZW50ID0gZG9jdW1lbnQuZ2V0RWxlbWVudEJ5SWQob3V0cHV0SWQpOwogIC8vIENhY2hlIHN0ZXBzIG9uIHRoZSBvdXRwdXRFbGVtZW50IHRvIG1ha2UgaXQgYXZhaWxhYmxlIGZvciB0aGUgbmV4dCBjYWxsCiAgLy8gdG8gdXBsb2FkRmlsZXNDb250aW51ZSBmcm9tIFB5dGhvbi4KICBvdXRwdXRFbGVtZW50LnN0ZXBzID0gc3RlcHM7CgogIHJldHVybiBfdXBsb2FkRmlsZXNDb250aW51ZShvdXRwdXRJZCk7Cn0KCi8vIFRoaXMgaXMgcm91Z2hseSBhbiBhc3luYyBnZW5lcmF0b3IgKG5vdCBzdXBwb3J0ZWQgaW4gdGhlIGJyb3dzZXIgeWV0KSwKLy8gd2hlcmUgdGhlcmUgYXJlIG11bHRpcGxlIGFzeW5jaHJvbm91cyBzdGVwcyBhbmQgdGhlIFB5dGhvbiBzaWRlIGlzIGdvaW5nCi8vIHRvIHBvbGwgZm9yIGNvbXBsZXRpb24gb2YgZWFjaCBzdGVwLgovLyBUaGlzIHVzZXMgYSBQcm9taXNlIHRvIGJsb2NrIHRoZSBweXRob24gc2lkZSBvbiBjb21wbGV0aW9uIG9mIGVhY2ggc3RlcCwKLy8gdGhlbiBwYXNzZXMgdGhlIHJlc3VsdCBvZiB0aGUgcHJldmlvdXMgc3RlcCBhcyB0aGUgaW5wdXQgdG8gdGhlIG5leHQgc3RlcC4KZnVuY3Rpb24gX3VwbG9hZEZpbGVzQ29udGludWUob3V0cHV0SWQpIHsKICBjb25zdCBvdXRwdXRFbGVtZW50ID0gZG9jdW1lbnQuZ2V0RWxlbWVudEJ5SWQob3V0cHV0SWQpOwogIGNvbnN0IHN0ZXBzID0gb3V0cHV0RWxlbWVudC5zdGVwczsKCiAgY29uc3QgbmV4dCA9IHN0ZXBzLm5leHQob3V0cHV0RWxlbWVudC5sYXN0UHJvbWlzZVZhbHVlKTsKICByZXR1cm4gUHJvbWlzZS5yZXNvbHZlKG5leHQudmFsdWUucHJvbWlzZSkudGhlbigodmFsdWUpID0+IHsKICAgIC8vIENhY2hlIHRoZSBsYXN0IHByb21pc2UgdmFsdWUgdG8gbWFrZSBpdCBhdmFpbGFibGUgdG8gdGhlIG5leHQKICAgIC8vIHN0ZXAgb2YgdGhlIGdlbmVyYXRvci4KICAgIG91dHB1dEVsZW1lbnQubGFzdFByb21pc2VWYWx1ZSA9IHZhbHVlOwogICAgcmV0dXJuIG5leHQudmFsdWUucmVzcG9uc2U7CiAgfSk7Cn0KCi8qKgogKiBHZW5lcmF0b3IgZnVuY3Rpb24gd2hpY2ggaXMgY2FsbGVkIGJldHdlZW4gZWFjaCBhc3luYyBzdGVwIG9mIHRoZSB1cGxvYWQKICogcHJvY2Vzcy4KICogQHBhcmFtIHtzdHJpbmd9IGlucHV0SWQgRWxlbWVudCBJRCBvZiB0aGUgaW5wdXQgZmlsZSBwaWNrZXIgZWxlbWVudC4KICogQHBhcmFtIHtzdHJpbmd9IG91dHB1dElkIEVsZW1lbnQgSUQgb2YgdGhlIG91dHB1dCBkaXNwbGF5LgogKiBAcmV0dXJuIHshSXRlcmFibGU8IU9iamVjdD59IEl0ZXJhYmxlIG9mIG5leHQgc3RlcHMuCiAqLwpmdW5jdGlvbiogdXBsb2FkRmlsZXNTdGVwKGlucHV0SWQsIG91dHB1dElkKSB7CiAgY29uc3QgaW5wdXRFbGVtZW50ID0gZG9jdW1lbnQuZ2V0RWxlbWVudEJ5SWQoaW5wdXRJZCk7CiAgaW5wdXRFbGVtZW50LmRpc2FibGVkID0gZmFsc2U7CgogIGNvbnN0IG91dHB1dEVsZW1lbnQgPSBkb2N1bWVudC5nZXRFbGVtZW50QnlJZChvdXRwdXRJZCk7CiAgb3V0cHV0RWxlbWVudC5pbm5lckhUTUwgPSAnJzsKCiAgY29uc3QgcGlja2VkUHJvbWlzZSA9IG5ldyBQcm9taXNlKChyZXNvbHZlKSA9PiB7CiAgICBpbnB1dEVsZW1lbnQuYWRkRXZlbnRMaXN0ZW5lcignY2hhbmdlJywgKGUpID0+IHsKICAgICAgcmVzb2x2ZShlLnRhcmdldC5maWxlcyk7CiAgICB9KTsKICB9KTsKCiAgY29uc3QgY2FuY2VsID0gZG9jdW1lbnQuY3JlYXRlRWxlbWVudCgnYnV0dG9uJyk7CiAgaW5wdXRFbGVtZW50LnBhcmVudEVsZW1lbnQuYXBwZW5kQ2hpbGQoY2FuY2VsKTsKICBjYW5jZWwudGV4dENvbnRlbnQgPSAnQ2FuY2VsIHVwbG9hZCc7CiAgY29uc3QgY2FuY2VsUHJvbWlzZSA9IG5ldyBQcm9taXNlKChyZXNvbHZlKSA9PiB7CiAgICBjYW5jZWwub25jbGljayA9ICgpID0+IHsKICAgICAgcmVzb2x2ZShudWxsKTsKICAgIH07CiAgfSk7CgogIC8vIENhbmNlbCB1cGxvYWQgaWYgdXNlciBoYXNuJ3QgcGlja2VkIGFueXRoaW5nIGluIHRpbWVvdXQuCiAgY29uc3QgdGltZW91dFByb21pc2UgPSBuZXcgUHJvbWlzZSgocmVzb2x2ZSkgPT4gewogICAgc2V0VGltZW91dCgoKSA9PiB7CiAgICAgIHJlc29sdmUobnVsbCk7CiAgICB9LCBGSUxFX0NIQU5HRV9USU1FT1VUX01TKTsKICB9KTsKCiAgLy8gV2FpdCBmb3IgdGhlIHVzZXIgdG8gcGljayB0aGUgZmlsZXMuCiAgY29uc3QgZmlsZXMgPSB5aWVsZCB7CiAgICBwcm9taXNlOiBQcm9taXNlLnJhY2UoW3BpY2tlZFByb21pc2UsIHRpbWVvdXRQcm9taXNlLCBjYW5jZWxQcm9taXNlXSksCiAgICByZXNwb25zZTogewogICAgICBhY3Rpb246ICdzdGFydGluZycsCiAgICB9CiAgfTsKCiAgaWYgKCFmaWxlcykgewogICAgcmV0dXJuIHsKICAgICAgcmVzcG9uc2U6IHsKICAgICAgICBhY3Rpb246ICdjb21wbGV0ZScsCiAgICAgIH0KICAgIH07CiAgfQoKICBjYW5jZWwucmVtb3ZlKCk7CgogIC8vIERpc2FibGUgdGhlIGlucHV0IGVsZW1lbnQgc2luY2UgZnVydGhlciBwaWNrcyBhcmUgbm90IGFsbG93ZWQuCiAgaW5wdXRFbGVtZW50LmRpc2FibGVkID0gdHJ1ZTsKCiAgZm9yIChjb25zdCBmaWxlIG9mIGZpbGVzKSB7CiAgICBjb25zdCBsaSA9IGRvY3VtZW50LmNyZWF0ZUVsZW1lbnQoJ2xpJyk7CiAgICBsaS5hcHBlbmQoc3BhbihmaWxlLm5hbWUsIHtmb250V2VpZ2h0OiAnYm9sZCd9KSk7CiAgICBsaS5hcHBlbmQoc3BhbigKICAgICAgICBgKCR7ZmlsZS50eXBlIHx8ICduL2EnfSkgLSAke2ZpbGUuc2l6ZX0gYnl0ZXMsIGAgKwogICAgICAgIGBsYXN0IG1vZGlmaWVkOiAkewogICAgICAgICAgICBmaWxlLmxhc3RNb2RpZmllZERhdGUgPyBmaWxlLmxhc3RNb2RpZmllZERhdGUudG9Mb2NhbGVEYXRlU3RyaW5nKCkgOgogICAgICAgICAgICAgICAgICAgICAgICAgICAgICAgICAgICAnbi9hJ30gLSBgKSk7CiAgICBjb25zdCBwZXJjZW50ID0gc3BhbignMCUgZG9uZScpOwogICAgbGkuYXBwZW5kQ2hpbGQocGVyY2VudCk7CgogICAgb3V0cHV0RWxlbWVudC5hcHBlbmRDaGlsZChsaSk7CgogICAgY29uc3QgZmlsZURhdGFQcm9taXNlID0gbmV3IFByb21pc2UoKHJlc29sdmUpID0+IHsKICAgICAgY29uc3QgcmVhZGVyID0gbmV3IEZpbGVSZWFkZXIoKTsKICAgICAgcmVhZGVyLm9ubG9hZCA9IChlKSA9PiB7CiAgICAgICAgcmVzb2x2ZShlLnRhcmdldC5yZXN1bHQpOwogICAgICB9OwogICAgICByZWFkZXIucmVhZEFzQXJyYXlCdWZmZXIoZmlsZSk7CiAgICB9KTsKICAgIC8vIFdhaXQgZm9yIHRoZSBkYXRhIHRvIGJlIHJlYWR5LgogICAgbGV0IGZpbGVEYXRhID0geWllbGQgewogICAgICBwcm9taXNlOiBmaWxlRGF0YVByb21pc2UsCiAgICAgIHJlc3BvbnNlOiB7CiAgICAgICAgYWN0aW9uOiAnY29udGludWUnLAogICAgICB9CiAgICB9OwoKICAgIC8vIFVzZSBhIGNodW5rZWQgc2VuZGluZyB0byBhdm9pZCBtZXNzYWdlIHNpemUgbGltaXRzLiBTZWUgYi82MjExNTY2MC4KICAgIGxldCBwb3NpdGlvbiA9IDA7CiAgICB3aGlsZSAocG9zaXRpb24gPCBmaWxlRGF0YS5ieXRlTGVuZ3RoKSB7CiAgICAgIGNvbnN0IGxlbmd0aCA9IE1hdGgubWluKGZpbGVEYXRhLmJ5dGVMZW5ndGggLSBwb3NpdGlvbiwgTUFYX1BBWUxPQURfU0laRSk7CiAgICAgIGNvbnN0IGNodW5rID0gbmV3IFVpbnQ4QXJyYXkoZmlsZURhdGEsIHBvc2l0aW9uLCBsZW5ndGgpOwogICAgICBwb3NpdGlvbiArPSBsZW5ndGg7CgogICAgICBjb25zdCBiYXNlNjQgPSBidG9hKFN0cmluZy5mcm9tQ2hhckNvZGUuYXBwbHkobnVsbCwgY2h1bmspKTsKICAgICAgeWllbGQgewogICAgICAgIHJlc3BvbnNlOiB7CiAgICAgICAgICBhY3Rpb246ICdhcHBlbmQnLAogICAgICAgICAgZmlsZTogZmlsZS5uYW1lLAogICAgICAgICAgZGF0YTogYmFzZTY0LAogICAgICAgIH0sCiAgICAgIH07CiAgICAgIHBlcmNlbnQudGV4dENvbnRlbnQgPQogICAgICAgICAgYCR7TWF0aC5yb3VuZCgocG9zaXRpb24gLyBmaWxlRGF0YS5ieXRlTGVuZ3RoKSAqIDEwMCl9JSBkb25lYDsKICAgIH0KICB9CgogIC8vIEFsbCBkb25lLgogIHlpZWxkIHsKICAgIHJlc3BvbnNlOiB7CiAgICAgIGFjdGlvbjogJ2NvbXBsZXRlJywKICAgIH0KICB9Owp9CgpzY29wZS5nb29nbGUgPSBzY29wZS5nb29nbGUgfHwge307CnNjb3BlLmdvb2dsZS5jb2xhYiA9IHNjb3BlLmdvb2dsZS5jb2xhYiB8fCB7fTsKc2NvcGUuZ29vZ2xlLmNvbGFiLl9maWxlcyA9IHsKICBfdXBsb2FkRmlsZXMsCiAgX3VwbG9hZEZpbGVzQ29udGludWUsCn07Cn0pKHNlbGYpOwo=",
              "ok": true,
              "headers": [
                [
                  "content-type",
                  "application/javascript"
                ]
              ],
              "status": 200,
              "status_text": ""
            }
          },
          "base_uri": "https://localhost:8080/",
          "height": 261
        }
      },
      "source": [
        "import pandas\n",
        "import io\n",
        "from google.colab import files\n",
        "uploaded = files.upload()\n",
        "data = pandas.read_csv(io.BytesIO(uploaded['insurance.csv']))\n",
        "\n",
        "data.head()"
      ],
      "execution_count": 19,
      "outputs": [
        {
          "output_type": "display_data",
          "data": {
            "text/html": [
              "\n",
              "     <input type=\"file\" id=\"files-c477465b-c3ba-439a-9362-03c362b974c4\" name=\"files[]\" multiple disabled />\n",
              "     <output id=\"result-c477465b-c3ba-439a-9362-03c362b974c4\">\n",
              "      Upload widget is only available when the cell has been executed in the\n",
              "      current browser session. Please rerun this cell to enable.\n",
              "      </output>\n",
              "      <script src=\"/nbextensions/google.colab/files.js\"></script> "
            ],
            "text/plain": [
              "<IPython.core.display.HTML object>"
            ]
          },
          "metadata": {
            "tags": []
          }
        },
        {
          "output_type": "stream",
          "text": [
            "Saving insurance.csv to insurance (1).csv\n"
          ],
          "name": "stdout"
        },
        {
          "output_type": "execute_result",
          "data": {
            "text/html": [
              "<div>\n",
              "<style scoped>\n",
              "    .dataframe tbody tr th:only-of-type {\n",
              "        vertical-align: middle;\n",
              "    }\n",
              "\n",
              "    .dataframe tbody tr th {\n",
              "        vertical-align: top;\n",
              "    }\n",
              "\n",
              "    .dataframe thead th {\n",
              "        text-align: right;\n",
              "    }\n",
              "</style>\n",
              "<table border=\"1\" class=\"dataframe\">\n",
              "  <thead>\n",
              "    <tr style=\"text-align: right;\">\n",
              "      <th></th>\n",
              "      <th>age</th>\n",
              "      <th>sex</th>\n",
              "      <th>bmi</th>\n",
              "      <th>children</th>\n",
              "      <th>smoker</th>\n",
              "      <th>region</th>\n",
              "      <th>charges</th>\n",
              "    </tr>\n",
              "  </thead>\n",
              "  <tbody>\n",
              "    <tr>\n",
              "      <th>0</th>\n",
              "      <td>19</td>\n",
              "      <td>female</td>\n",
              "      <td>27.900</td>\n",
              "      <td>0</td>\n",
              "      <td>yes</td>\n",
              "      <td>southwest</td>\n",
              "      <td>16884.92400</td>\n",
              "    </tr>\n",
              "    <tr>\n",
              "      <th>1</th>\n",
              "      <td>18</td>\n",
              "      <td>male</td>\n",
              "      <td>33.770</td>\n",
              "      <td>1</td>\n",
              "      <td>no</td>\n",
              "      <td>southeast</td>\n",
              "      <td>1725.55230</td>\n",
              "    </tr>\n",
              "    <tr>\n",
              "      <th>2</th>\n",
              "      <td>28</td>\n",
              "      <td>male</td>\n",
              "      <td>33.000</td>\n",
              "      <td>3</td>\n",
              "      <td>no</td>\n",
              "      <td>southeast</td>\n",
              "      <td>4449.46200</td>\n",
              "    </tr>\n",
              "    <tr>\n",
              "      <th>3</th>\n",
              "      <td>33</td>\n",
              "      <td>male</td>\n",
              "      <td>22.705</td>\n",
              "      <td>0</td>\n",
              "      <td>no</td>\n",
              "      <td>northwest</td>\n",
              "      <td>21984.47061</td>\n",
              "    </tr>\n",
              "    <tr>\n",
              "      <th>4</th>\n",
              "      <td>32</td>\n",
              "      <td>male</td>\n",
              "      <td>28.880</td>\n",
              "      <td>0</td>\n",
              "      <td>no</td>\n",
              "      <td>northwest</td>\n",
              "      <td>3866.85520</td>\n",
              "    </tr>\n",
              "  </tbody>\n",
              "</table>\n",
              "</div>"
            ],
            "text/plain": [
              "   age     sex     bmi  children smoker     region      charges\n",
              "0   19  female  27.900         0    yes  southwest  16884.92400\n",
              "1   18    male  33.770         1     no  southeast   1725.55230\n",
              "2   28    male  33.000         3     no  southeast   4449.46200\n",
              "3   33    male  22.705         0     no  northwest  21984.47061\n",
              "4   32    male  28.880         0     no  northwest   3866.85520"
            ]
          },
          "metadata": {
            "tags": []
          },
          "execution_count": 19
        }
      ]
    },
    {
      "cell_type": "code",
      "metadata": {
        "id": "Mm_PxbeiL7xW",
        "colab_type": "code",
        "colab": {}
      },
      "source": [
        "data['region'] = [list(set(data['region'])).index(region) for region in data['region']]\n",
        "data['sex'] = list(map(int, data['sex'] == 'male'))\n",
        "data['smoker'] = list(map(int, data['smoker'] == 'yes'))"
      ],
      "execution_count": 0,
      "outputs": []
    },
    {
      "cell_type": "code",
      "metadata": {
        "id": "dk52mKqpL7xb",
        "colab_type": "code",
        "colab": {
          "base_uri": "https://localhost:8080/",
          "height": 51
        },
        "outputId": "ff4d016e-935e-44c4-9824-9a42023528aa"
      },
      "source": [
        "X = data.drop(['charges'], axis=1)\n",
        "y = data['charges'].values\n",
        "\n",
        "X_train, X_test, y_train, y_test = train_test_split(X, y, test_size=0.3, shuffle=True, random_state=7)\n",
        "print(f\"train size: {X_train.shape[0]}\")\n",
        "print(f\"test size: {X_test.shape[0]}\")"
      ],
      "execution_count": 27,
      "outputs": [
        {
          "output_type": "stream",
          "text": [
            "train size: 936\n",
            "test size: 402\n"
          ],
          "name": "stdout"
        }
      ]
    },
    {
      "cell_type": "code",
      "metadata": {
        "id": "rp2lwj8WL7xi",
        "colab_type": "code",
        "colab": {}
      },
      "source": [
        "model = RandomForestRegressor(random_state=2, n_jobs=-1)\n",
        "model.fit(X_train, y_train)\n",
        "y_pred = model.predict(X_test)"
      ],
      "execution_count": 0,
      "outputs": []
    },
    {
      "cell_type": "code",
      "metadata": {
        "id": "u05pK1Z2L7xn",
        "colab_type": "code",
        "colab": {
          "base_uri": "https://localhost:8080/",
          "height": 34
        },
        "outputId": "a9dce6f1-1d80-4076-ffc4-5e88dd822a4d"
      },
      "source": [
        "y_pred = model.predict(X_test)\n",
        "print(f\"test score is {rmse(y_test, y_pred)}\")"
      ],
      "execution_count": 40,
      "outputs": [
        {
          "output_type": "stream",
          "text": [
            "test score is 4957.137641367138\n"
          ],
          "name": "stdout"
        }
      ]
    }
  ]
}