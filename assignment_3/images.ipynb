{
 "cells": [
  {
   "cell_type": "code",
   "execution_count": 35,
   "metadata": {},
   "outputs": [],
   "source": [
    "import urllib.request"
   ]
  },
  {
   "cell_type": "code",
   "execution_count": 36,
   "metadata": {},
   "outputs": [
    {
     "data": {
      "text/plain": [
       "('img.jpg', <http.client.HTTPMessage at 0x7f2f0021ee80>)"
      ]
     },
     "execution_count": 36,
     "metadata": {},
     "output_type": "execute_result"
    }
   ],
   "source": [
    "urllib.request.urlretrieve('https://external-content.duckduckgo.com/iu/?u=https%3A%2F%2Fi.ytimg.com%2Fvi%2FI9JvDaciaFk%2Fmaxresdefault.jpg&f=1&nofb=1', 'img.jpg')"
   ]
  },
  {
   "cell_type": "code",
   "execution_count": 37,
   "metadata": {},
   "outputs": [],
   "source": [
    "import cv2\n",
    "import numpy as np"
   ]
  },
  {
   "cell_type": "code",
   "execution_count": 38,
   "metadata": {},
   "outputs": [
    {
     "name": "stdout",
     "output_type": "stream",
     "text": [
      "(720, 1280, 3)\n"
     ]
    }
   ],
   "source": [
    "img = cv2.imread('/home/lev/Workspace/2019-2020/python_basic_programming/assignment_3/img.jpg')\n",
    "img_h, img_w, img_z = img.shape\n",
    "print(img.shape)"
   ]
  },
  {
   "cell_type": "code",
   "execution_count": 39,
   "metadata": {},
   "outputs": [],
   "source": [
    "img_d2 = cv2.resize(img, None, fx=0.5, fy=0.5, interpolation=cv2.INTER_AREA)\n",
    "img_d2_h, img_d2_w, img_d2_z = img_d2.shape\n",
    "img_d4 = cv2.resize(img, None, fx=0.25, fy=0.25, interpolation=cv2.INTER_AREA)\n",
    "img_d4_h, img_d4_w, img_d4_z = img_d4.shape"
   ]
  },
  {
   "cell_type": "code",
   "execution_count": 40,
   "metadata": {},
   "outputs": [],
   "source": [
    "edges = cv2.Canny(img_d2, 100, 200)\n",
    "edges_1_ch = edges.reshape((img_d2_h, img_d2_w, 1))\n",
    "edges_ch = np.zeros((img_d2_h, img_d2_w, img_z), np.uint8)\n",
    "for ch in range(0, img_z):\n",
    "    edges_ch[0:img_d2_h, 0:img_d2_w, ch:ch+1] = edges_1_ch\n",
    "\n",
    "averaging = cv2.blur(img_d4, (5, 5))\n",
    "\n",
    "gaussian = cv2.GaussianBlur(img_d4, (5,5), 0)\n",
    "\n",
    "kernel = np.array([[0, -1, 0], [-1, 5, -1], [0, -1, 0]])\n",
    "kernelled = cv2.filter2D(img_d4, -1, kernel)\n",
    "\n",
    "random = (np.random.rand(img_d4_h, img_d4_w, 3) * 255).astype(np.uint8)"
   ]
  },
  {
   "cell_type": "code",
   "execution_count": 41,
   "metadata": {},
   "outputs": [],
   "source": [
    "result = np.zeros((img_h, img_w + img_d2_w, img_z), np.uint8)\n",
    "result[0:img_h, 0:img_w] = img\n",
    "result[0:img_d2_h, img_w : img_w + img_d2_w] = edges_ch\n",
    "result[img_d2_h : img_d2_h + img_d4_h, img_w : img_w + img_d4_w] = averaging\n",
    "result[img_d2_h : img_d2_h + img_d4_h, img_w + img_d4_w : img_w + img_d2_w] = gaussian\n",
    "result[img_d2_h + img_d4_h : img_h, img_w : img_w + img_d4_w] = kernelled\n",
    "result[img_d2_h + img_d4_h : img_h, img_w + img_d4_w : img_w + img_d2_w] = random"
   ]
  },
  {
   "cell_type": "code",
   "execution_count": 42,
   "metadata": {},
   "outputs": [
    {
     "data": {
      "text/plain": [
       "True"
      ]
     },
     "execution_count": 42,
     "metadata": {},
     "output_type": "execute_result"
    }
   ],
   "source": [
    "cv2.imwrite('result.jpg', result)"
   ]
  },
  {
   "cell_type": "code",
   "execution_count": 43,
   "metadata": {},
   "outputs": [],
   "source": [
    "cv2.imshow('result', result)\n",
    "cv2.waitKey(0)\n",
    "cv2.destroyAllWindows()"
   ]
  },
  {
   "cell_type": "code",
   "execution_count": null,
   "metadata": {},
   "outputs": [],
   "source": []
  }
 ],
 "metadata": {
  "kernelspec": {
   "display_name": "Python 3",
   "language": "python",
   "name": "python3"
  },
  "language_info": {
   "codemirror_mode": {
    "name": "ipython",
    "version": 3
   },
   "file_extension": ".py",
   "mimetype": "text/x-python",
   "name": "python",
   "nbconvert_exporter": "python",
   "pygments_lexer": "ipython3",
   "version": "3.8.1"
  }
 },
 "nbformat": 4,
 "nbformat_minor": 4
}
